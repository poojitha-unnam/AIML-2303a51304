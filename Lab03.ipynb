{
  "nbformat": 4,
  "nbformat_minor": 0,
  "metadata": {
    "colab": {
      "provenance": [],
      "authorship_tag": "ABX9TyMTYaQ+s6YfWFZ7Q2jzQw22",
      "include_colab_link": true
    },
    "kernelspec": {
      "name": "python3",
      "display_name": "Python 3"
    },
    "language_info": {
      "name": "python"
    }
  },
  "cells": [
    {
      "cell_type": "markdown",
      "metadata": {
        "id": "view-in-github",
        "colab_type": "text"
      },
      "source": [
        "<a href=\"https://colab.research.google.com/github/poojitha-unnam/AIML-2303a51304/blob/main/Lab03.ipynb\" target=\"_parent\"><img src=\"https://colab.research.google.com/assets/colab-badge.svg\" alt=\"Open In Colab\"/></a>"
      ]
    },
    {
      "cell_type": "code",
      "source": [],
      "metadata": {
        "id": "OVA-AwY8QLNr"
      },
      "execution_count": null,
      "outputs": []
    },
    {
      "cell_type": "markdown",
      "source": [
        "PART-01:Implement the AI Game Strategy"
      ],
      "metadata": {
        "id": "GzOoP8HxQV1D"
      }
    },
    {
      "cell_type": "code",
      "source": [],
      "metadata": {
        "id": "sk0WF8qAQs5x"
      },
      "execution_count": null,
      "outputs": []
    },
    {
      "cell_type": "markdown",
      "source": [],
      "metadata": {
        "id": "fli9frRaQKSG"
      }
    },
    {
      "cell_type": "code",
      "execution_count": null,
      "metadata": {
        "id": "pht_7ujNBy3S"
      },
      "outputs": [],
      "source": [
        "from collections import namedtuple,Counter,defaultdict\n",
        "import random\n",
        "import math\n",
        "import functools\n",
        "cache=functools.lru_cache(10**6)"
      ]
    },
    {
      "cell_type": "code",
      "source": [
        "class Game:\n",
        "  def actions(self, state ):\n",
        "      ##Return a collection of the allowable moves from this state .”””\n",
        "      raise NotImplementedError\n",
        "  def result(self, state , move ):\n",
        "      ##Return the state that results from making a move from a state .”””\n",
        "      raise NotImplementedError\n",
        "  def is_terminal (self, state ):\n",
        "       ##Return True i f this is a final state for the game.”””\n",
        "       return not self.actions(state)\n",
        "  def utility(self, state , player ):\n",
        "      ##Return the value of this final state to player .”””\n",
        "      raise NotImplementedError"
      ],
      "metadata": {
        "id": "iVCnzLrCDBci"
      },
      "execution_count": null,
      "outputs": []
    },
    {
      "cell_type": "code",
      "source": [
        "def play_game(game, strategies: dict, verbose=False):\n",
        "    ##Play a turn−taking game.'strategies' is a player name: function}\n",
        "    ##dict,where function(state, game) is used to get the player s move.\n",
        "    state = game.initial\n",
        "    while not game.is_terminal(state):\n",
        "        player = state.to_move\n",
        "        move = strategies[player](game, state)\n",
        "        state = game.result(state, move)\n",
        "        if verbose:\n",
        "            print( 'Player', player, 'move:' , move)\n",
        "            print(state)\n",
        "    return state"
      ],
      "metadata": {
        "id": "4NOCUOBDDPGT"
      },
      "execution_count": null,
      "outputs": []
    },
    {
      "cell_type": "markdown",
      "source": [
        "Part-02"
      ],
      "metadata": {
        "id": "NEJGGgDWEk05"
      }
    },
    {
      "cell_type": "code",
      "source": [
        "def minimax_search (game , state ):\n",
        "  ##Search game tree to determine best move;\n",
        "  ##return (value , move) pair .”””\n",
        "    player = state. to_move\n",
        "    def max_value (state ):\n",
        "        if game. is_terminal (state ):\n",
        "            return game.utility(state , player), None\n",
        "        v, move = -infinity , None\n",
        "        for a in game.actions(state ):\n",
        "            v2 , = min_value (game.result(state , a))\n",
        "            if v2>v:\n",
        "                v, move = v2 , a\n",
        "        return v, move\n",
        "        return max_value (state)\n",
        "        infinity = math.inf"
      ],
      "metadata": {
        "id": "0xRR-qSyEtzx"
      },
      "execution_count": null,
      "outputs": []
    },
    {
      "cell_type": "code",
      "source": [
        "def alphabeta_search(game, state):\n",
        "     ##Search game to determine best action; use alpha−beta pruning.\n",
        "     ##Search all the way to the leaves.\n",
        "     player = state.to_move\n",
        "def max_value(state, alpha, beta):\n",
        "    if game.is_terminal(state):\n",
        "        return game.utility(state, player), None\n",
        "    v, move = -infinity, None\n",
        "    for a in game.actions(state):\n",
        "        v2,_= min_value(game.result(state, a), alpha, beta)\n",
        "        if v2 > v:\n",
        "            v, move = v2, a\n",
        "            alpha = max(alpha, v)\n",
        "            if v >= beta:\n",
        "               return v, move\n",
        "               return v, move\n",
        "def min_value(state, alpha, beta):\n",
        "    if game.is_terminal(state):\n",
        "        return game.utility(state, player), None\n",
        "    v, move = +infinity, None\n",
        "    for a in game.actions(state):\n",
        "       v2,_= max_value(game.result(state, a), alpha, beta)\n",
        "    if v2 < v:\n",
        "      v, move = v2, a\n",
        "      beta = min(beta, v)\n",
        "    if v <= alpha:\n",
        "      return v, move\n",
        "      return v, move\n",
        "    return max_value(state, -infinity, +infinity)"
      ],
      "metadata": {
        "id": "bWQRhp2AFFfi"
      },
      "execution_count": null,
      "outputs": []
    },
    {
      "cell_type": "markdown",
      "source": [
        "Part-03"
      ],
      "metadata": {
        "id": "Cah78YbhFLBN"
      }
    },
    {
      "cell_type": "code",
      "source": [
        "def random_player(game, state): return random.choice(list(game.actions(state)))\n",
        "def player(search_algorithm):\n",
        " \"\"\"A game player who uses the specified search algorithm\"\"\"\n",
        " return lambda game, state: search_algorithm(game, state)[1]"
      ],
      "metadata": {
        "id": "-BRLLGhzQvTl"
      },
      "execution_count": 8,
      "outputs": []
    },
    {
      "cell_type": "markdown",
      "source": [
        "Part-04"
      ],
      "metadata": {
        "id": "5EZA3PQrQ1w1"
      }
    },
    {
      "cell_type": "code",
      "source": [],
      "metadata": {
        "id": "UKgXgSd9Q44y"
      },
      "execution_count": 10,
      "outputs": []
    },
    {
      "cell_type": "markdown",
      "source": [
        "1.Implement GameStrategy using play_game(TicTacToe(),dict(X=random player, O=player(alphabeta search)),verbose=True).utility"
      ],
      "metadata": {
        "id": "GajFp9c2Q9Rs"
      }
    }
  ]
}